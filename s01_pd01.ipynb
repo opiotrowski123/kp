{
 "cells": [
  {
   "cell_type": "code",
   "execution_count": 3,
   "metadata": {},
   "outputs": [
    {
     "name": "stdout",
     "output_type": "stream",
     "text": [
      "Jak się nazywasz?: Olaf\n",
      "Ile masz lat?: 22\n",
      "Nazywasz sie Olaf i masz 22 lat\n"
     ]
    }
   ],
   "source": [
    "imie = input(\"Jak się nazywasz?: \")\n",
    "wiek = input(\"Ile masz lat?: \")\n",
    "print(\"Nazywasz sie\", imie, \"i masz\", wiek, \"lat\")"
   ]
  }
 ],
 "metadata": {
  "kernelspec": {
   "display_name": "Python 3",
   "language": "python",
   "name": "python3"
  },
  "language_info": {
   "codemirror_mode": {
    "name": "ipython",
    "version": 3
   },
   "file_extension": ".py",
   "mimetype": "text/x-python",
   "name": "python",
   "nbconvert_exporter": "python",
   "pygments_lexer": "ipython3",
   "version": "3.6.3"
  }
 },
 "nbformat": 4,
 "nbformat_minor": 2
}
